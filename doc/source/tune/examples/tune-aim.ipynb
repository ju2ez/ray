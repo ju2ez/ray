{
 "cells": [
  {
   "attachments": {},
   "cell_type": "markdown",
   "id": "ecad719c",
   "metadata": {},
   "source": [
    "# Using Aim with Tune\n",
    "\n",
    "(tune-aim-ref)=\n",
    "\n",
    "[Aim](https://aimstack.io) is an easy-to-use and supercharged open-source experiment tracker.\n",
    "Aim logs your training runs, enables a well-designed UI to compare them, and provides an API to query them programmatically.\n",
    "\n",
    "```{image} /images/aim_logo_full.png\n",
    ":align: center\n",
    ":alt: Aim\n",
    ":width: 100%\n",
    ":target: https://aimstack.io\n",
    "```\n",
    "\n",
    "Ray Tune currently offers built-in integration with Aim.\n",
    "The {ref}`AimCallback <tune-aim-logger>` allows for automatic logging of metrics reported to Tune to the Aim API.\n",
    "\n",
    "\n",
    "```{contents}\n",
    ":backlinks: none\n",
    ":local: true\n",
    "```\n",
    "\n",
    "## Running An Aim Example\n",
    "\n",
    "The following example demonstrates how the `AimCallback` works in a sample project.\n",
    "We begin by importing the necessary modules:"
   ]
  },
  {
   "cell_type": "code",
   "execution_count": null,
   "id": "100bcf8a",
   "metadata": {},
   "outputs": [],
   "source": [
    "import numpy as np\n",
    "\n",
    "import ray\n",
    "from ray import air, tune\n",
    "from ray.air import session\n",
    "from ray.tune.logger.aim import AimCallback"
   ]
  },
  {
   "attachments": {},
   "cell_type": "markdown",
   "id": "9346c0f6",
   "metadata": {},
   "source": [
    "Next, we'll define a simple `train_function` (a Tune `Trainable`) that reports a random loss to Tune.\n",
    "The objective function itself is not important for this example, as our main focus is on the integration with Aim."
   ]
  },
  {
   "cell_type": "code",
   "execution_count": 2,
   "id": "e8b4fc4d",
   "metadata": {
    "pycharm": {
     "name": "#%%\n"
    }
   },
   "outputs": [],
   "source": [
    "def train_function(config):\n",
    "    for _ in range(50):\n",
    "        loss = config[\"mean\"] + config[\"sd\"] * np.random.randn()\n",
    "        session.report({\"loss\": loss})"
   ]
  },
  {
   "attachments": {},
   "cell_type": "markdown",
   "id": "831eed42",
   "metadata": {},
   "source": [
    "Here is an example of how you can use the `AimCallback` to set up a simple grid-search Tune run."
   ]
  },
  {
   "cell_type": "code",
   "execution_count": 3,
   "id": "52988599",
   "metadata": {
    "pycharm": {
     "name": "#%%\n"
    }
   },
   "outputs": [],
   "source": [
    "def tune_with_callback():\n",
    "     \"\"\"An example of utilizing an AimCallback\"\"\"\n",
    "     tuner = tune.Tuner(\n",
    "         train_function,\n",
    "         tune_config=tune.TuneConfig(\n",
    "             metric=\"loss\",\n",
    "             mode=\"min\",\n",
    "         ),\n",
    "         run_config=air.RunConfig(\n",
    "             callbacks=[\n",
    "                 AimCallback(repo=\"ray_tune\", experiment_name=\"ray tune example\", as_multirun=True)\n",
    "             ]\n",
    "         ),\n",
    "         param_space={\n",
    "             \"mean\": tune.grid_search([1, 2, 3, 4, 5, 6, 7, 8, 9]),\n",
    "             \"sd\": tune.uniform(0.1, 0.9),\n",
    "         },\n",
    "     )\n",
    "     tuner.fit()"
   ]
  },
  {
   "cell_type": "code",
   "execution_count": null,
   "id": "3bc21609",
   "metadata": {},
   "outputs": [],
   "source": [
    "tune_with_callback()"
   ]
  },
  {
   "attachments": {},
   "cell_type": "markdown",
   "id": "941f25f2",
   "metadata": {},
   "source": [
    "Upon executing the script, a grid-search will be carried out and the results will be seamlessly saved to the Aim repo.\n",
    "These results can then be easily accessed and analyzed through the user-friendly interface provided by Aim UI, stored in the `ray_tune` repository."
   ]
  },
  {
   "attachments": {},
   "cell_type": "markdown",
   "id": "7bb97157",
   "metadata": {},
   "source": [
    "```{image} /images/aim_example_metrics_page.png\n",
    ":align: center\n",
    ":alt: Aim Metrics Explorer\n",
    ":target: https://aimstack.readthedocs.io/en/latest/ui/pages/explorers.html#metrics-explorer\n",
    "```"
   ]
  },
  {
   "attachments": {},
   "cell_type": "markdown",
   "id": "2f6e9138",
   "metadata": {},
   "source": [
    "This concludes our examination of Tune with Aim.\n",
    "In the sections to come, you'll find more in-depth information on the API of the Tune-Aim integration.\n",
    "\n",
    "## Tune Aim API Reference\n",
    "\n",
    "### AimCallback\n",
    "\n",
    "(tune-aim-logger)=\n",
    "\n",
    "```{eval-rst}\n",
    ".. autoclass:: ray.tune.logger.aim.AimCallback\n",
    "   :noindex:\n",
    "```"
   ]
  }
 ],
 "metadata": {
  "kernelspec": {
   "display_name": "Python 3 (ipykernel)",
   "language": "python",
   "name": "python3"
  },
  "language_info": {
   "codemirror_mode": {
    "name": "ipython",
    "version": 3
   },
   "file_extension": ".py",
   "mimetype": "text/x-python",
   "name": "python",
   "nbconvert_exporter": "python",
   "pygments_lexer": "ipython3",
   "version": "3.7.7"
  },
  "orphan": true
 },
 "nbformat": 4,
 "nbformat_minor": 5
}
